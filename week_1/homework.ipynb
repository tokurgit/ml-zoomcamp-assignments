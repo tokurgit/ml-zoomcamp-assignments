{
 "cells": [
  {
   "cell_type": "code",
   "execution_count": 23,
   "metadata": {},
   "outputs": [],
   "source": [
    "import numpy as np"
   ]
  },
  {
   "cell_type": "code",
   "execution_count": 24,
   "metadata": {},
   "outputs": [
    {
     "data": {
      "text/plain": [
       "'1.19.5'"
      ]
     },
     "execution_count": 24,
     "metadata": {},
     "output_type": "execute_result"
    }
   ],
   "source": [
    "# Question 1\n",
    "np.__version__\n",
    "\n",
    "# ANSWER\n",
    "# 1.19.5\n"
   ]
  },
  {
   "cell_type": "code",
   "execution_count": 25,
   "metadata": {},
   "outputs": [],
   "source": [
    "import pandas as pd"
   ]
  },
  {
   "cell_type": "code",
   "execution_count": 26,
   "metadata": {},
   "outputs": [
    {
     "data": {
      "text/plain": [
       "'1.3.2'"
      ]
     },
     "execution_count": 26,
     "metadata": {},
     "output_type": "execute_result"
    }
   ],
   "source": [
    "# Question 2\n",
    "\n",
    "pd.__version__\n",
    "\n",
    "# ANSWER\n",
    "# 1.3.2"
   ]
  },
  {
   "cell_type": "code",
   "execution_count": 27,
   "metadata": {},
   "outputs": [],
   "source": [
    "df = pd.read_csv('~/local_dev/zoomcamp/1/data.csv')"
   ]
  },
  {
   "cell_type": "code",
   "execution_count": 28,
   "metadata": {},
   "outputs": [
    {
     "data": {
      "text/html": [
       "<div>\n",
       "<style scoped>\n",
       "    .dataframe tbody tr th:only-of-type {\n",
       "        vertical-align: middle;\n",
       "    }\n",
       "\n",
       "    .dataframe tbody tr th {\n",
       "        vertical-align: top;\n",
       "    }\n",
       "\n",
       "    .dataframe thead th {\n",
       "        text-align: right;\n",
       "    }\n",
       "</style>\n",
       "<table border=\"1\" class=\"dataframe\">\n",
       "  <thead>\n",
       "    <tr style=\"text-align: right;\">\n",
       "      <th></th>\n",
       "      <th>Make</th>\n",
       "      <th>Model</th>\n",
       "      <th>Year</th>\n",
       "      <th>Engine Fuel Type</th>\n",
       "      <th>Engine HP</th>\n",
       "      <th>Engine Cylinders</th>\n",
       "      <th>Transmission Type</th>\n",
       "      <th>Driven_Wheels</th>\n",
       "      <th>Number of Doors</th>\n",
       "      <th>Market Category</th>\n",
       "      <th>Vehicle Size</th>\n",
       "      <th>Vehicle Style</th>\n",
       "      <th>highway MPG</th>\n",
       "      <th>city mpg</th>\n",
       "      <th>Popularity</th>\n",
       "      <th>MSRP</th>\n",
       "    </tr>\n",
       "  </thead>\n",
       "  <tbody>\n",
       "    <tr>\n",
       "      <th>0</th>\n",
       "      <td>BMW</td>\n",
       "      <td>1 Series M</td>\n",
       "      <td>2011</td>\n",
       "      <td>premium unleaded (required)</td>\n",
       "      <td>335.0</td>\n",
       "      <td>6.0</td>\n",
       "      <td>MANUAL</td>\n",
       "      <td>rear wheel drive</td>\n",
       "      <td>2.0</td>\n",
       "      <td>Factory Tuner,Luxury,High-Performance</td>\n",
       "      <td>Compact</td>\n",
       "      <td>Coupe</td>\n",
       "      <td>26</td>\n",
       "      <td>19</td>\n",
       "      <td>3916</td>\n",
       "      <td>46135</td>\n",
       "    </tr>\n",
       "  </tbody>\n",
       "</table>\n",
       "</div>"
      ],
      "text/plain": [
       "  Make       Model  Year             Engine Fuel Type  Engine HP  \\\n",
       "0  BMW  1 Series M  2011  premium unleaded (required)      335.0   \n",
       "\n",
       "   Engine Cylinders Transmission Type     Driven_Wheels  Number of Doors  \\\n",
       "0               6.0            MANUAL  rear wheel drive              2.0   \n",
       "\n",
       "                         Market Category Vehicle Size Vehicle Style  \\\n",
       "0  Factory Tuner,Luxury,High-Performance      Compact         Coupe   \n",
       "\n",
       "   highway MPG  city mpg  Popularity   MSRP  \n",
       "0           26        19        3916  46135  "
      ]
     },
     "execution_count": 28,
     "metadata": {},
     "output_type": "execute_result"
    }
   ],
   "source": [
    "df.head(1)"
   ]
  },
  {
   "cell_type": "code",
   "execution_count": 29,
   "metadata": {},
   "outputs": [
    {
     "data": {
      "text/plain": [
       "61546.76347305389"
      ]
     },
     "execution_count": 29,
     "metadata": {},
     "output_type": "execute_result"
    }
   ],
   "source": [
    "# Question 3\n",
    "\n",
    "# What's the average price of BMW cars in the dataset?\n",
    "df[\n",
    "    df.Make == 'BMW'\n",
    "].MSRP.mean()\n",
    "\n",
    "# ANSWER\n",
    "# 61546.76347305389"
   ]
  },
  {
   "cell_type": "code",
   "execution_count": 30,
   "metadata": {},
   "outputs": [
    {
     "data": {
      "text/plain": [
       "51"
      ]
     },
     "execution_count": 30,
     "metadata": {},
     "output_type": "execute_result"
    }
   ],
   "source": [
    "# Question 4\n",
    "\n",
    "# Select a subset of cars after year 2015 (inclusive, i.e. 2015 and after). How many of them have missing values for Engine HP?\n",
    "\n",
    "df[\n",
    "    df.Year >= 2015\n",
    "][\"Engine HP\"].isnull().sum()\n",
    "\n",
    "# ANSWER\n",
    "# 51\n"
   ]
  },
  {
   "cell_type": "code",
   "execution_count": 31,
   "metadata": {},
   "outputs": [
    {
     "name": "stdout",
     "output_type": "stream",
     "text": [
      "AVG Engine HP before: 249.38607007176023\n",
      "AVG Engine HP after: 249.38607007176\n"
     ]
    }
   ],
   "source": [
    "# Question 5\n",
    "\n",
    "\"\"\"\n",
    "* Calculate the average \"Engine HP\" in the dataset. \n",
    "* Use the `fillna` method and to fill the missing values in \"Engine HP\" with the mean value from the previous step. \n",
    "* Now, calcualte the average of \"Engine HP\" again.\n",
    "* Has it changed? \n",
    "\"\"\"\n",
    " \n",
    "# 1\n",
    "avg_hp_before = df[\"Engine HP\"].mean()\n",
    "print(f\"AVG Engine HP before: {avg_hp_before}\")\n",
    "# 249.38607007176023\n",
    "# check if there are null values in the `Engine HP` column\n",
    "df[\n",
    "    df[\"Engine HP\"].isnull()\n",
    "]\n",
    "\n",
    "\n",
    "\n",
    "# 2\n",
    "df = df.fillna(value={\"Engine HP\": avg_hp_before})\n",
    "# df\n",
    "# check if no null values present in the `df`\n",
    "df[\n",
    "    df[\"Engine HP\"].isnull()\n",
    "]\n",
    "\n",
    "\n",
    "# 3\n",
    "avg_hp_after = df[\"Engine HP\"].mean()\n",
    "print(f\"AVG Engine HP after: {avg_hp_after}\")\n",
    "# # 249.38607007176\n",
    "\n",
    "\n",
    "#  Now the average `Engine HP` value is different from the initial one\n",
    "\n",
    "\n",
    "mean_hp_before_ROUNDED = round(avg_hp_before)\n",
    "mean_hp_after_ROUNDED = round(avg_hp_after)\n",
    "assert mean_hp_before_ROUNDED == mean_hp_after_ROUNDED\n",
    "\n",
    "# ANSWER\n",
    "# It hasn't changed"
   ]
  },
  {
   "cell_type": "code",
   "execution_count": 32,
   "metadata": {},
   "outputs": [
    {
     "name": "stdout",
     "output_type": "stream",
     "text": [
      "1970887.0\n"
     ]
    }
   ],
   "source": [
    "### Question 6\n",
    "\n",
    "\"\"\"\n",
    "* Select all the \"Rolls-Royce\" cars from the dataset.\n",
    "* Select only columns \"Engine HP\", \"Engine Cylinders\", \"highway MPG\".\n",
    "* Now drop all duplicated rows using `drop_duplicates` method(you should get a dataframe with 7 rows).\n",
    "* Get the underlying NumPy array. Let's call it `X`.\n",
    "* Compute matrix-matrix multiplication between the transpose of `X` and `X`. To get the transpose, use `X.T`. Let's call the result `XTX`.\n",
    "* Invert `XTX`.\n",
    "* What's the sum of all the elements of the result?\n",
    "\n",
    "Hint: if the result is negative, re-read the task one more time\n",
    "\"\"\"\n",
    "\n",
    "# 1\n",
    "rolls = df[\n",
    "    df.Make.str.match(\"Rolls\")\n",
    "]\n",
    "# 2\n",
    "rolls = rolls[[\"Engine HP\", \"Engine Cylinders\", \"highway MPG\"]]\n",
    "\n",
    "# 3\n",
    "rolls = rolls.drop_duplicates()\n",
    "len(rolls)  # is equal to 7 like required\n",
    "\n",
    "# 4\n",
    "X = rolls.to_numpy()\n",
    "X\n",
    "# X.shape = (7,3)\n",
    "\n",
    "# 5\n",
    "X_transposed = X.T\n",
    "# X_transposed.shape = (3,7)\n",
    "XTX = np.dot(X_transposed, X)\n",
    "# XTX.shape = (3, 3)\n",
    "\n",
    "# 6\n",
    "XTX_inv = np.linalg.inv(XTX)\n",
    "# XTX_inv.shape = (3,3)\n",
    "\n",
    "# 7\n",
    "# sum of inverted XTX was negative, took into account the \"Hint\" and the naming\n",
    "#  - the sum was supposed to be calculated for the `result` and in pt.5 we were\n",
    "# supposed to call the result `XTX`\n",
    "xtx_sum = XTX.sum()\n",
    "print(xtx_sum)\n",
    "\n",
    "# ANSWER\n",
    "# 1970887.0\n"
   ]
  },
  {
   "cell_type": "code",
   "execution_count": 36,
   "metadata": {},
   "outputs": [
    {
     "data": {
      "text/plain": [
       "array([ 0.19989598, 31.02612262, 31.65378877])"
      ]
     },
     "execution_count": 36,
     "metadata": {},
     "output_type": "execute_result"
    }
   ],
   "source": [
    "\n",
    "# Question 7\n",
    "\"\"\"\n",
    "* Create an array `y` with values `[1000, 1100, 900, 1200, 1000, 850, 1300]`.\n",
    "* Multiply the inverse of `XTX` with the transpose of `X`, and then multiply the result by `y`. Call the result `w`.\n",
    "* What's the value of the first element of `w`?.\n",
    "\n",
    "> **Note**: You just implemented linear regression. We'll talk about it in the next lesson.\n",
    "\"\"\"\n",
    "\n",
    "# 1\n",
    "\n",
    "y = np.array([1000, 1100, 900, 1200, 1000, 850, 1300])\n",
    "\n",
    "# 2\n",
    "W_mm = np.dot(XTX_inv, X_transposed)\n",
    "w = np.dot(W_mm,y)\n",
    "w\n",
    "\n",
    "# ANSWER\n",
    "# 0.19989598\n"
   ]
  }
 ],
 "metadata": {
  "interpreter": {
   "hash": "5aef173314483181c139eb183b82c0af0c37753cf87e14b886149cc4bd101e28"
  },
  "kernelspec": {
   "display_name": "Python 3.8.11 64-bit ('ml-zoomcamp-env': conda)",
   "name": "python3"
  },
  "language_info": {
   "name": "python",
   "version": ""
  },
  "orig_nbformat": 4
 },
 "nbformat": 4,
 "nbformat_minor": 2
}